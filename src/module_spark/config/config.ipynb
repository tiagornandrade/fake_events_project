{
 "cells": [
  {
   "cell_type": "code",
   "execution_count": 2,
   "source": [
    "import pyspark\r\n",
    "import pandas as pd\r\n",
    "from pyspark.sql import SparkSession\r\n",
    "from pyspark.sql import SQLContext\r\n",
    "from pyspark import SparkConf, SparkContext\r\n",
    "from pyspark.sql.functions import explode\r\n",
    "from pyspark.sql.functions import date_format\r\n",
    "from pyspark.sql.functions import col , column\r\n",
    "from pyspark.sql.types import StringType\r\n",
    "from IPython.core.magic import register_line_cell_magic\r\n",
    "from delta.tables import *\r\n",
    "from pyspark.sql.functions import *\r\n",
    "from datetime import date, datetime\r\n",
    "from time import time"
   ],
   "outputs": [],
   "metadata": {}
  },
  {
   "cell_type": "code",
   "execution_count": 3,
   "source": [
    "spark = SparkSession \\\r\n",
    "            .builder \\\r\n",
    "            .appName(\"fake_events_etl\") \\\r\n",
    "            .config(\"spark.eventLog.enabled\", \"true\") \\\r\n",
    "            .config(\"spark.eventLog.dir\", \"hdfs:///tmp/spark-events\") \\\r\n",
    "            .config(\"spark.executor.logs.rolling.time.interval\", \"daily\") \\\r\n",
    "            .config(\"spark.executor.logs.rolling.strategy\", \"time\") \\\r\n",
    "            .config(\"spark.executor.logs.rolling.maxRetainedFiles\", \"7\") \\\r\n",
    "            .config(\"spark.driver.host\", \"localhost\") \\\r\n",
    "            .config(\"spark.some.config.option\", \"some-value\") \\\r\n",
    "            .config(\"spark.executor.memory\", \"10g\") \\\r\n",
    "            .config(\"spark.driver.memory\", \"10g\") \\\r\n",
    "            .config(\"spark.sql.shuffle.partitions\", \"2100\") \\\r\n",
    "            .config(\"spark.sql.warehouse.dir\", \"hdfs:///tmp/hive/warehouse\") \\\r\n",
    "            .config(\"spark.sql.catalogImplementation\",\"hive\") \\\r\n",
    "            .config(\"spark.jars.packages\", \"io.delta:delta-core_2.12:0.8.0\") \\\r\n",
    "            .config(\"spark.sql.extensions\", \"io.delta.sql.DeltaSparkSessionExtension\") \\\r\n",
    "            .enableHiveSupport() \\\r\n",
    "            .getOrCreate()\r\n",
    "sc = spark.sparkContext"
   ],
   "outputs": [],
   "metadata": {}
  }
 ],
 "metadata": {
  "kernelspec": {
   "display_name": "Python 3",
   "language": "python",
   "name": "python3"
  },
  "language_info": {
   "codemirror_mode": {
    "name": "ipython",
    "version": 3
   },
   "file_extension": ".py",
   "mimetype": "text/x-python",
   "name": "python",
   "nbconvert_exporter": "python",
   "pygments_lexer": "ipython3",
   "version": "3.7.9"
  }
 },
 "nbformat": 4,
 "nbformat_minor": 4
}