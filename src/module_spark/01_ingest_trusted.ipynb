{
 "cells": [
  {
   "cell_type": "code",
   "execution_count": 1,
   "source": [
    "%run ./config/config.ipynb"
   ],
   "outputs": [],
   "metadata": {}
  },
  {
   "cell_type": "code",
   "execution_count": 2,
   "source": [
    "# using SQLContext to read parquet file\r\n",
    "sqlContext = SQLContext(sc)"
   ],
   "outputs": [],
   "metadata": {}
  },
  {
   "cell_type": "code",
   "execution_count": 3,
   "source": [
    "%run ./variables/path_variable.ipynb"
   ],
   "outputs": [],
   "metadata": {}
  },
  {
   "cell_type": "code",
   "execution_count": 4,
   "source": [
    "%run ./variables/TempTable.ipynb"
   ],
   "outputs": [],
   "metadata": {}
  },
  {
   "cell_type": "code",
   "execution_count": 5,
   "source": [
    "# to read parquet file\r\n",
    "df_refined = spark.read.parquet(path_refined)"
   ],
   "outputs": [],
   "metadata": {}
  },
  {
   "cell_type": "code",
   "execution_count": 6,
   "source": [
    "df_refined.count()"
   ],
   "outputs": [
    {
     "output_type": "execute_result",
     "data": {
      "text/plain": [
       "150000"
      ]
     },
     "metadata": {},
     "execution_count": 6
    }
   ],
   "metadata": {}
  },
  {
   "cell_type": "code",
   "execution_count": 7,
   "source": [
    "df_refined.registerTempTable(TempTableRefined)"
   ],
   "outputs": [],
   "metadata": {}
  },
  {
   "cell_type": "code",
   "execution_count": 8,
   "source": [
    "df_refined_sql = spark.sql(\"\"\"\r\n",
    "                          SELECT \r\n",
    "                                profile.name[0] AS name, \r\n",
    "                                profile.username[0] AS username, \r\n",
    "                                profile.sex[0] AS sex, \r\n",
    "                                profile.birthdate[0] AS birthdate, \r\n",
    "                                city, \r\n",
    "                                job, \r\n",
    "                                quantity AS visit_number, \r\n",
    "                                value AS total_clicks, \r\n",
    "                                last_access,\r\n",
    "                                last_access AS access,\r\n",
    "                                Host_name AS host, \r\n",
    "                                Domain_name AS domain \r\n",
    "                          FROM refined_delta \r\n",
    "                      \"\"\")"
   ],
   "outputs": [],
   "metadata": {}
  },
  {
   "cell_type": "code",
   "execution_count": 9,
   "source": [
    "df_refined_sql.count()"
   ],
   "outputs": [
    {
     "output_type": "execute_result",
     "data": {
      "text/plain": [
       "150000"
      ]
     },
     "metadata": {},
     "execution_count": 9
    }
   ],
   "metadata": {}
  },
  {
   "cell_type": "code",
   "execution_count": 10,
   "source": [
    "%run ./variables/today.ipynb"
   ],
   "outputs": [],
   "metadata": {}
  },
  {
   "cell_type": "code",
   "execution_count": 11,
   "source": [
    "path_exist = DeltaTable.isDeltaTable(spark, path_trusted)"
   ],
   "outputs": [],
   "metadata": {}
  },
  {
   "cell_type": "code",
   "execution_count": 12,
   "source": [
    "if path_exist == False:\r\n",
    "    df_refined_select = df_refined_sql.select(df_refined_sql['*'])\r\n",
    "else:\r\n",
    "    df_refined_select = df_refined_sql.select(df_refined_sql['*']).filter(df_refined_sql['last_access'] == today)"
   ],
   "outputs": [],
   "metadata": {}
  },
  {
   "cell_type": "code",
   "execution_count": 13,
   "source": [
    "df_refined_select.count()"
   ],
   "outputs": [
    {
     "output_type": "execute_result",
     "data": {
      "text/plain": [
       "10000"
      ]
     },
     "metadata": {},
     "execution_count": 13
    }
   ],
   "metadata": {}
  },
  {
   "cell_type": "code",
   "execution_count": 14,
   "source": [
    "# Grava os arquivos na camada Processed\r\n",
    "df_refined_select.write.format(\"delta\") \\\r\n",
    "                       .mode(\"overwrite\") \\\r\n",
    "                       .partitionBy('last_access') \\\r\n",
    "                       .save(path_trusted)"
   ],
   "outputs": [],
   "metadata": {}
  },
  {
   "cell_type": "code",
   "execution_count": 15,
   "source": [
    "sc.stop()"
   ],
   "outputs": [],
   "metadata": {}
  }
 ],
 "metadata": {
  "kernelspec": {
   "display_name": "Python 3",
   "language": "python",
   "name": "python3"
  },
  "language_info": {
   "codemirror_mode": {
    "name": "ipython",
    "version": 3
   },
   "file_extension": ".py",
   "mimetype": "text/x-python",
   "name": "python",
   "nbconvert_exporter": "python",
   "pygments_lexer": "ipython3",
   "version": "3.7.9"
  }
 },
 "nbformat": 4,
 "nbformat_minor": 4
}